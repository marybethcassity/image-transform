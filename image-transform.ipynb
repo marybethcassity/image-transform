{
 "cells": [
  {
   "cell_type": "code",
   "execution_count": null,
   "id": "259d67b1",
   "metadata": {},
   "outputs": [],
   "source": [
    "from PIL import Image \n",
    "import os\n",
    "%matplotlib inline\n",
    "from pycocotools.coco import COCO\n",
    "import numpy as np\n",
    "import skimage.io as io\n",
    "import matplotlib.pyplot as plt\n",
    "import matplotlib.patches as patches\n",
    "import pylab\n",
    "import json\n",
    "\n",
    "im_path = \"\" #path to current im folder\n",
    "cropped_path = \"\" #path to cropped im folder \n",
    "resized_path = \"\" #path to resized im folder "
   ]
  },
  {
   "cell_type": "code",
   "execution_count": null,
   "id": "37c98dde",
   "metadata": {},
   "outputs": [],
   "source": [
    "#only run this cell if you need to figure out the smallest dimension\n",
    "smallest_dimen = 9000 #lol\n",
    "\n",
    "for ii in os.listdir(im_path):\n",
    "    file_name = os.path.basename(ii)\n",
    "    old_path = os.path.join(im_path,file_name)\n",
    "    image_opened = Image.open(old_path)\n",
    "    height = image_opened.height\n",
    "    width = image_opened.width\n",
    "    \n",
    "    if (width % 2) == 1:\n",
    "        width = width - 1\n",
    "    \n",
    "    if (height % 2) == 1:\n",
    "        height = height -1   \n",
    "    \n",
    "    if (height < width):\n",
    "        dimen = height \n",
    "    \n",
    "    if (width < height):\n",
    "        dimen = width\n",
    "    \n",
    "    if (dimen < smallest_dimen):\n",
    "        smallest_dimen = dimen\n",
    "        print(smallest_dimen) #checking the smallest dimesion-- you can comment this out"
   ]
  },
  {
   "cell_type": "code",
   "execution_count": null,
   "id": "ae46d0cb",
   "metadata": {},
   "outputs": [],
   "source": [
    "#only run this cell if you already know the smallest dimension\n",
    "smallest_dimen = 920"
   ]
  },
  {
   "cell_type": "code",
   "execution_count": null,
   "id": "01cdfefa",
   "metadata": {},
   "outputs": [],
   "source": [
    "coco_annotation_file_path = \"\" #path to annotation folder \n",
    "coco_annotations = COCO(annotation_file = coco_annotation_file_path)\n",
    "cat_ids = coco_annotations.getCatIds()\n",
    "print('COCO category ids:')\n",
    "print(cat_ids)\n",
    "cats = coco_annotations.loadCats(cat_ids)\n",
    "names=[cat['name'] for cat in cats]\n",
    "print('COCO categories: \\n{}\\n'.format(' '.join(names)))\n",
    "image_ids = coco_annotations.getImgIds(catIds = cat_ids)"
   ]
  },
  {
   "cell_type": "code",
   "execution_count": null,
   "id": "f6f71801",
   "metadata": {},
   "outputs": [],
   "source": [
    "with open(coco_annotation_file_path) as json_file:\n",
    "    data = json.load(json_file)\n",
    "json_anns = data['annotations']\n",
    "json_file.close()"
   ]
  },
  {
   "cell_type": "code",
   "execution_count": null,
   "id": "b26b390a",
   "metadata": {},
   "outputs": [],
   "source": [
    "for image_id in range(len(image_ids)):\n",
    "    image = coco_annotations.loadImgs(image_ids[image_id])\n",
    "    image = image[0]\n",
    "    image_name = image['file_name']\n",
    "    \n",
    "    old_path = os.path.join(im_path,image_name)\n",
    "    new_path = os.path.join(cropped_path,image_name)\n",
    "    image_opened_2 = Image.open(old_path)\n",
    "    height = image_opened_2.height\n",
    "    width = image_opened_2.width \n",
    "    #print(height)\n",
    "    #print(width)\n",
    "    \n",
    "    if (width % 2) == 1: \n",
    "        width = width - 1\n",
    "     \n",
    "    if (height % 2) == 1:\n",
    "        height = height -1\n",
    "                \n",
    "    if(width<height):\n",
    "        orig_height = height\n",
    "        new_height = width \n",
    "        left = 0\n",
    "        upper = 0.5*orig_height - 0.5*new_height\n",
    "        right = width\n",
    "        lower = 0.5*orig_height + 0.5*new_height \n",
    "        cropped_im = image_opened_2.crop((left, upper, right, lower))\n",
    "\n",
    "        delta_x = 0 \n",
    "        delta_y = (height - width)/2 \n",
    "        scale = width/smallest_dimen\n",
    "\n",
    "    if(height<width):\n",
    "        orig_width = width\n",
    "        new_width = height \n",
    "        left = 0.5*orig_width - 0.5*new_width\n",
    "        upper = 0\n",
    "        right = 0.5*orig_width + 0.5*new_width\n",
    "        lower = height\n",
    "        cropped_im = image_opened_2.crop((left, upper, right, lower))\n",
    "\n",
    "        delta_x = (width - height)/2\n",
    "        delta_y = 0 \n",
    "        scale = height/smallest_dimen\n",
    "\n",
    "    cropped_im.save(new_path)  \n",
    "    \n",
    "    old_path_2 = os.path.join(cropped_path,image_name)\n",
    "    new_path_2 = os.path.join(resized_path,image_name)\n",
    "    image_opened_3 = Image.open(old_path_2)\n",
    "    image_opened_3.thumbnail((smallest_dimen, smallest_dimen))\n",
    "    image_opened_3.save(new_path_2)\n",
    "    \n",
    "    annIds = coco_annotations.getAnnIds(imgIds=image['id'], catIds= cat_ids, iscrowd=None)\n",
    "    anns = coco_annotations.loadAnns(annIds)\n",
    "    \n",
    "    for annotation_num in range(len(anns)):\n",
    "        annotation = anns[annotation_num]\n",
    "        \n",
    "        bbox = annotation['bbox']\n",
    "        bbox_width = bbox[2]/scale\n",
    "        bbox_height =bbox[3]/scale\n",
    "        bbox_x = (bbox[0] - delta_x)/scale\n",
    "        bbox_y = (bbox [1] - delta_y)/scale\n",
    "        bbox_new = [bbox_x, bbox_y, bbox_width, bbox_height]\n",
    "    \n",
    "        segmentation = annotation['segmentation']\n",
    "        segmentation = segmentation[0]\n",
    "        segmentation_new= [0]*len(segmentation)\n",
    "        for coord in range(len(segmentation)):\n",
    "            if coord % 2 == 0:\n",
    "                segmentation_new[coord] = (segmentation[coord] - delta_x)/scale\n",
    "\n",
    "            if coord % 2 == 1:\n",
    "                segmentation_new[coord] = (segmentation[coord] - delta_y)/scale\n",
    "        \n",
    "        annotation['bbox'] = bbox_new\n",
    "        annotation['segmentation'] = [segmentation_new]\n",
    "        annotation_id = annotation['id']\n",
    "        annotation_id_json = annotation_id-1\n",
    "    \n",
    "        json_anns[annotation_id_json] = annotation "
   ]
  },
  {
   "cell_type": "code",
   "execution_count": null,
   "id": "008641a4",
   "metadata": {},
   "outputs": [],
   "source": [
    "data['annotations'] = json_anns"
   ]
  },
  {
   "cell_type": "code",
   "execution_count": null,
   "id": "59849a75",
   "metadata": {},
   "outputs": [],
   "source": [
    "images = data['images']\n",
    "for image_num in range(len(images)):\n",
    "    image_details = images[image_num]\n",
    "    image_details['height'] = smallest_dimen\n",
    "    image_details['width'] = smallest_dimen\n",
    "    images[image_num] = image_details\n",
    "\n",
    "data['images'] = images"
   ]
  },
  {
   "cell_type": "code",
   "execution_count": null,
   "id": "0f719586",
   "metadata": {},
   "outputs": [],
   "source": [
    "result_file = open(\"\", \"w+\")\n",
    "json.dump(data, result_file, indent = 4, sort_keys= True)"
   ]
  },
  {
   "cell_type": "code",
   "execution_count": null,
   "id": "3f5ed781",
   "metadata": {},
   "outputs": [],
   "source": [
    "result_file.close()"
   ]
  },
  {
   "cell_type": "code",
   "execution_count": null,
   "id": "3961fcc9",
   "metadata": {},
   "outputs": [],
   "source": []
  }
 ],
 "metadata": {
  "kernelspec": {
   "display_name": "Python 3",
   "language": "python",
   "name": "python3"
  },
  "language_info": {
   "codemirror_mode": {
    "name": "ipython",
    "version": 3
   },
   "file_extension": ".py",
   "mimetype": "text/x-python",
   "name": "python",
   "nbconvert_exporter": "python",
   "pygments_lexer": "ipython3",
   "version": "3.8.8"
  }
 },
 "nbformat": 4,
 "nbformat_minor": 5
}
