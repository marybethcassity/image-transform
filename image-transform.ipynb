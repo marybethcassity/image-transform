{
 "cells": [
  {
   "cell_type": "code",
   "execution_count": 1,
   "id": "92c76940",
   "metadata": {},
   "outputs": [],
   "source": [
    "from PIL import Image \n",
    "import os\n",
    "%matplotlib inline\n",
    "from pycocotools.coco import COCO\n",
    "import numpy as np\n",
    "import skimage.io as io\n",
    "import matplotlib.pyplot as plt\n",
    "import matplotlib.patches as patches\n",
    "import pylab\n",
    "import json\n",
    "\n",
    "im_path = \"\" #path to current im folder\n",
    "cropped_path = \"\" #path to cropped im folder \n",
    "resized_path = \"\" #path to resized im folder "
   ]
  },
  {
   "cell_type": "code",
   "execution_count": 2,
   "id": "35df72d7",
   "metadata": {},
   "outputs": [
    {
     "name": "stdout",
     "output_type": "stream",
     "text": [
      "1052\n",
      "970\n",
      "920\n"
     ]
    },
    {
     "ename": "KeyboardInterrupt",
     "evalue": "",
     "output_type": "error",
     "traceback": [
      "\u001b[0;31m---------------------------------------------------------------------------\u001b[0m",
      "\u001b[0;31mKeyboardInterrupt\u001b[0m                         Traceback (most recent call last)",
      "\u001b[0;32m<ipython-input-2-b88ebf362456>\u001b[0m in \u001b[0;36m<module>\u001b[0;34m\u001b[0m\n\u001b[1;32m      5\u001b[0m     \u001b[0mfile_name\u001b[0m \u001b[0;34m=\u001b[0m \u001b[0mos\u001b[0m\u001b[0;34m.\u001b[0m\u001b[0mpath\u001b[0m\u001b[0;34m.\u001b[0m\u001b[0mbasename\u001b[0m\u001b[0;34m(\u001b[0m\u001b[0mii\u001b[0m\u001b[0;34m)\u001b[0m\u001b[0;34m\u001b[0m\u001b[0;34m\u001b[0m\u001b[0m\n\u001b[1;32m      6\u001b[0m     \u001b[0mold_path\u001b[0m \u001b[0;34m=\u001b[0m \u001b[0mos\u001b[0m\u001b[0;34m.\u001b[0m\u001b[0mpath\u001b[0m\u001b[0;34m.\u001b[0m\u001b[0mjoin\u001b[0m\u001b[0;34m(\u001b[0m\u001b[0mim_path\u001b[0m\u001b[0;34m,\u001b[0m\u001b[0mfile_name\u001b[0m\u001b[0;34m)\u001b[0m\u001b[0;34m\u001b[0m\u001b[0;34m\u001b[0m\u001b[0m\n\u001b[0;32m----> 7\u001b[0;31m     \u001b[0mimage_opened\u001b[0m \u001b[0;34m=\u001b[0m \u001b[0mImage\u001b[0m\u001b[0;34m.\u001b[0m\u001b[0mopen\u001b[0m\u001b[0;34m(\u001b[0m\u001b[0mold_path\u001b[0m\u001b[0;34m)\u001b[0m\u001b[0;34m\u001b[0m\u001b[0;34m\u001b[0m\u001b[0m\n\u001b[0m\u001b[1;32m      8\u001b[0m     \u001b[0mheight\u001b[0m \u001b[0;34m=\u001b[0m \u001b[0mimage_opened\u001b[0m\u001b[0;34m.\u001b[0m\u001b[0mheight\u001b[0m\u001b[0;34m\u001b[0m\u001b[0;34m\u001b[0m\u001b[0m\n\u001b[1;32m      9\u001b[0m     \u001b[0mwidth\u001b[0m \u001b[0;34m=\u001b[0m \u001b[0mimage_opened\u001b[0m\u001b[0;34m.\u001b[0m\u001b[0mwidth\u001b[0m\u001b[0;34m\u001b[0m\u001b[0;34m\u001b[0m\u001b[0m\n",
      "\u001b[0;32m~/anaconda3/lib/python3.8/site-packages/PIL/Image.py\u001b[0m in \u001b[0;36mopen\u001b[0;34m(fp, mode, formats)\u001b[0m\n\u001b[1;32m   2910\u001b[0m \u001b[0;34m\u001b[0m\u001b[0m\n\u001b[1;32m   2911\u001b[0m     \u001b[0;32mif\u001b[0m \u001b[0mfilename\u001b[0m\u001b[0;34m:\u001b[0m\u001b[0;34m\u001b[0m\u001b[0;34m\u001b[0m\u001b[0m\n\u001b[0;32m-> 2912\u001b[0;31m         \u001b[0mfp\u001b[0m \u001b[0;34m=\u001b[0m \u001b[0mbuiltins\u001b[0m\u001b[0;34m.\u001b[0m\u001b[0mopen\u001b[0m\u001b[0;34m(\u001b[0m\u001b[0mfilename\u001b[0m\u001b[0;34m,\u001b[0m \u001b[0;34m\"rb\"\u001b[0m\u001b[0;34m)\u001b[0m\u001b[0;34m\u001b[0m\u001b[0;34m\u001b[0m\u001b[0m\n\u001b[0m\u001b[1;32m   2913\u001b[0m         \u001b[0mexclusive_fp\u001b[0m \u001b[0;34m=\u001b[0m \u001b[0;32mTrue\u001b[0m\u001b[0;34m\u001b[0m\u001b[0;34m\u001b[0m\u001b[0m\n\u001b[1;32m   2914\u001b[0m \u001b[0;34m\u001b[0m\u001b[0m\n",
      "\u001b[0;31mKeyboardInterrupt\u001b[0m: "
     ]
    }
   ],
   "source": [
    "#only run this cell if you need to figure out the smallest dimension\n",
    "smallest_dimen = 9000 #lol\n",
    "\n",
    "for ii in os.listdir(im_path):\n",
    "    file_name = os.path.basename(ii)\n",
    "    old_path = os.path.join(im_path,file_name)\n",
    "    image_opened = Image.open(old_path)\n",
    "    height = image_opened.height\n",
    "    width = image_opened.width\n",
    "    \n",
    "    if (width % 2) == 1:\n",
    "        width = width - 1\n",
    "    \n",
    "    if (height % 2) == 1:\n",
    "        height = height -1   \n",
    "    \n",
    "    if (height < width):\n",
    "        dimen = height \n",
    "    \n",
    "    if (width < height):\n",
    "        dimen = width\n",
    "    \n",
    "    if (dimen < smallest_dimen):\n",
    "        smallest_dimen = dimen\n",
    "        print(smallest_dimen) #checking the smallest dimesion-- you can comment this out"
   ]
  },
  {
   "cell_type": "code",
   "execution_count": 3,
   "id": "3d27528f",
   "metadata": {},
   "outputs": [],
   "source": [
    "#only run this cell if you already know the smallest dimension\n",
    "smallest_dimen = 920"
   ]
  },
  {
   "cell_type": "code",
   "execution_count": 4,
   "id": "6d8f54a0",
   "metadata": {},
   "outputs": [
    {
     "name": "stdout",
     "output_type": "stream",
     "text": [
      "loading annotations into memory...\n",
      "Done (t=1.03s)\n",
      "creating index...\n",
      "index created!\n",
      "COCO category ids:\n",
      "[1]\n",
      "COCO categories: \n",
      "plant root\n",
      "\n",
      "[8548, 1, 2, 3, 4, 5, 6, 7, 8, 9, 10, 11, 12, 13, 14, 15, 16, 17, 18, 19, 20, 21, 22, 23, 24, 25, 26, 27, 28, 29, 30, 31, 32, 33, 34, 35, 36, 37, 38, 39, 40, 41, 42, 43, 44, 45, 46, 47, 48, 49, 50, 51, 52, 53, 54, 55, 56, 57, 58, 59, 60, 61, 62, 63, 64, 65, 66, 67, 68, 69, 70, 71, 72, 73, 74, 75, 76, 77, 78, 79, 80, 81, 82, 83, 84, 85, 86, 87, 88, 89, 90, 91, 92, 93, 94, 95, 96, 97, 98, 99, 100, 101, 102, 103, 104, 105, 106, 107, 108, 109, 110, 111, 112, 113, 114, 115, 116, 117, 118, 119, 120, 121, 122, 123, 124, 125, 126, 127, 128, 129, 130, 131, 132, 133, 134, 135, 136, 137, 138, 139, 140, 141, 142, 143, 144, 145, 146, 147, 148, 149, 150, 151, 152, 153, 154, 155, 156, 157, 158, 159, 160, 161, 162, 163, 164, 165, 166, 167, 168, 169, 170, 171, 172, 173, 174, 175, 176, 177, 178, 179, 180, 181, 182, 183, 184, 185, 186, 187, 188, 189, 190, 191, 192, 193, 194, 195, 196, 197, 198, 199, 200, 201, 202, 203, 204, 205, 206, 207, 208, 209, 210, 211, 212, 213, 214, 215, 216, 217, 218, 219, 220, 221, 222, 223, 224, 225, 226, 227, 228, 229, 230, 231, 232, 233, 234, 235, 236, 237, 238, 239, 240, 241, 242, 243, 244, 245, 246, 247, 248, 249, 250, 251, 252, 253, 254, 255, 256, 257, 258, 259, 260, 261, 262, 263, 264, 265, 266, 267, 268, 269, 270, 271, 272, 273, 274, 275, 276, 277, 278, 279, 280, 281, 282, 283, 284, 285, 286, 287, 288, 289, 290, 291, 292, 293, 294, 295, 296, 297, 298, 299, 300, 301, 302, 303, 304, 305, 306, 307, 308, 309, 310, 311, 312, 313, 314, 315, 316, 317, 318, 319, 320, 321, 322, 323, 324, 325, 326, 327, 328, 329, 330, 331, 332, 333, 334, 335, 336, 337, 338, 339, 340, 341, 342, 343, 344, 345, 346, 347, 348, 349, 350, 351, 352, 353, 354, 355, 356, 357, 358, 359, 360, 361, 362, 363, 364, 365, 366, 367, 368, 369, 370, 371, 372, 373, 374, 375, 376, 377, 378, 379, 380, 381, 382, 383, 384, 385, 386, 387, 388, 389, 390, 391, 392, 393, 394, 395, 396, 397, 398, 399, 400, 401, 402, 403, 404, 405, 406, 407, 408, 409, 410, 411, 412, 413, 414, 415, 416, 417, 418, 419, 420, 421, 422, 423, 424, 425, 426, 427, 428, 429, 430, 431, 432, 433, 434, 435, 436, 437, 438, 439, 440, 441, 442, 443, 444, 445, 446, 447, 448, 449, 450, 451, 452, 453, 454, 455, 456, 457, 458, 459, 460, 461, 462, 463, 464, 465, 466, 467, 468, 469, 470, 471, 472, 473, 474, 475, 476, 477, 478, 479, 480, 481, 482, 483, 484, 485, 486, 487, 488, 489, 490, 491, 492, 493, 494, 495, 496, 497, 498, 499, 500, 501, 502, 503, 504, 505, 506, 507, 508, 509, 510, 511, 512, 513, 514, 515, 516, 517, 518, 519, 520, 521, 522, 523, 524, 525, 526, 527, 528, 529, 530, 531, 532, 533, 534, 535, 536, 537, 538, 539, 540, 541, 542, 543, 544, 545, 546, 547, 548, 549, 550, 551, 552, 553, 554, 555, 556, 557, 558, 559, 560, 561, 562, 563, 564, 565, 566, 567, 568, 569, 570, 571, 572, 573, 574, 575, 576, 577, 578, 579, 580, 581, 582, 583, 584, 585, 586, 587, 588, 589, 590, 591, 592, 593, 594, 595, 596, 597, 598, 599, 600, 601, 602, 603, 604, 605, 606, 607, 608, 609, 610, 611, 612, 613, 628, 8673, 8823, 646, 8248, 664, 665, 666, 667, 668, 669, 670, 671, 672, 673, 674, 675, 676, 677, 678, 679, 680, 681, 682, 683, 684, 685, 686, 687, 688, 689, 690, 691, 692, 693, 694, 695, 696, 697, 698, 699, 700, 718, 4216, 738, 4100, 2189, 778, 6930, 798, 6945, 6960, 828, 7010, 2210, 2220, 7075, 954, 5050, 7110, 979, 2230, 5075, 5085, 994, 5100, 2235, 7160, 1023, 5119, 5124, 7175, 8346, 3091, 5139, 1058, 5159, 3116, 2250, 5179, 1088, 3146, 5194, 1108, 7259, 5225, 2260, 8773, 3181, 5230, 1141, 5240, 7298, 3206, 5255, 7308, 5270, 3231, 7328, 5285, 3246, 1203, 5300, 3255, 3261, 5315, 3276, 1233, 7378, 5335, 3291, 1251, 3306, 5355, 7416, 1273, 5370, 3326, 5380, 1289, 7436, 3341, 7443, 5400, 3356, 5410, 7459, 4170, 7465, 3371, 7474, 5430, 5431, 7483, 1346, 3396, 5446, 7497, 2089, 3411, 5466, 4125, 1376, 3426, 7528, 5481, 1386, 3434, 5496, 1406, 7553, 3458, 3463, 5516, 7568, 3473, 5526, 7580, 3488, 5536, 8198, 4535, 1451, 7598, 5561, 7618, 5576, 3533, 2333, 1500, 1501, 5601, 5621, 7670, 8446, 7688, 3593, 5646, 7708, 5672, 7733, 1594, 3643, 4490, 5702, 1609, 5708, 1624, 5725, 3685, 1639, 1649, 5757, 1664, 5761, 3718, 7816, 1673, 5771, 1679, 5781, 1689, 5786, 1699, 5796, 3751, 2510, 1714, 5811, 3776, 1729, 5826, 1739, 3801, 1754, 7898, 1764, 4421, 7913, 1784, 1794, 3851, 7949, 1810, 1825, 1830, 1840, 1855, 1865, 3915, 1875, 3925, 8022, 4145, 1885, 3945, 1900, 1915, 3975, 1930, 4456, 8218, 1950, 4000, 1965, 1975, 8122, 4030, 1986, 2114, 2001, 4050, 8148, 8238, 2011, 2051, 8163, 2021, 4070, 2031, 8178]\n"
     ]
    }
   ],
   "source": [
    "coco_annotation_file_path = \"/home/u1/mec0104/Documents/Root AI/Merging datasets/AIRootsPNG/results_1/merged/annotations/merged.json\" #path to annotation folder \n",
    "coco_annotations = COCO(annotation_file = coco_annotation_file_path)\n",
    "cat_ids = coco_annotations.getCatIds()\n",
    "print('COCO category ids:')\n",
    "print(cat_ids)\n",
    "cats = coco_annotations.loadCats(cat_ids)\n",
    "names=[cat['name'] for cat in cats]\n",
    "print('COCO categories: \\n{}\\n'.format(' '.join(names)))\n",
    "image_ids = coco_annotations.getImgIds(catIds = cat_ids)"
   ]
  },
  {
   "cell_type": "code",
   "execution_count": 5,
   "id": "832859f8",
   "metadata": {},
   "outputs": [],
   "source": [
    "with open(coco_annotation_file_path) as json_file:\n",
    "    data = json.load(json_file)\n",
    "json_anns = data['annotations']\n",
    "json_file.close()"
   ]
  },
  {
   "cell_type": "code",
   "execution_count": 6,
   "id": "12a2a2cf",
   "metadata": {},
   "outputs": [],
   "source": [
    "for image_id in range(len(image_ids)):\n",
    "    image = coco_annotations.loadImgs(image_ids[image_id])\n",
    "    image = image[0]\n",
    "    image_name = image['file_name']\n",
    "    \n",
    "    old_path = os.path.join(im_path,image_name)\n",
    "    new_path = os.path.join(cropped_path,image_name)\n",
    "    image_opened_2 = Image.open(old_path)\n",
    "    height = image_opened_2.height\n",
    "    width = image_opened_2.width \n",
    "    #print(height)\n",
    "    #print(width)\n",
    "    \n",
    "    if (width % 2) == 1: \n",
    "        width = width - 1\n",
    "     \n",
    "    if (height % 2) == 1:\n",
    "        height = height -1\n",
    "                \n",
    "    if(width<height):\n",
    "        orig_height = height\n",
    "        new_height = width \n",
    "        left = 0\n",
    "        upper = 0.5*orig_height - 0.5*new_height\n",
    "        right = width\n",
    "        lower = 0.5*orig_height + 0.5*new_height \n",
    "        cropped_im = image_opened_2.crop((left, upper, right, lower))\n",
    "\n",
    "        delta_x = 0 \n",
    "        delta_y = (height - width)/2 \n",
    "        scale = width/smallest_dimen\n",
    "\n",
    "    if(height<width):\n",
    "        orig_width = width\n",
    "        new_width = height \n",
    "        left = 0.5*orig_width - 0.5*new_width\n",
    "        upper = 0\n",
    "        right = 0.5*orig_width + 0.5*new_width\n",
    "        lower = height\n",
    "        cropped_im = image_opened_2.crop((left, upper, right, lower))\n",
    "\n",
    "        delta_x = (width - height)/2\n",
    "        delta_y = 0 \n",
    "        scale = height/smallest_dimen\n",
    "\n",
    "    cropped_im.save(new_path)  \n",
    "    \n",
    "    old_path_2 = os.path.join(cropped_path,image_name)\n",
    "    new_path_2 = os.path.join(resized_path,image_name)\n",
    "    image_opened_3 = Image.open(old_path_2)\n",
    "    image_opened_3.thumbnail((smallest_dimen, smallest_dimen))\n",
    "    image_opened_3.save(new_path_2)\n",
    "    \n",
    "    annIds = coco_annotations.getAnnIds(imgIds=image['id'], catIds= cat_ids, iscrowd=None)\n",
    "    anns = coco_annotations.loadAnns(annIds)\n",
    "    \n",
    "    for annotation_num in range(len(anns)):\n",
    "        annotation = anns[annotation_num]\n",
    "        \n",
    "        bbox = annotation['bbox']\n",
    "        bbox_width = bbox[2]/scale\n",
    "        bbox_height =bbox[3]/scale\n",
    "        bbox_x = (bbox[0] - delta_x)/scale\n",
    "        bbox_y = (bbox [1] - delta_y)/scale\n",
    "        bbox_new = [bbox_x, bbox_y, bbox_width, bbox_height]\n",
    "    \n",
    "        segmentation = annotation['segmentation']\n",
    "        segmentation = segmentation[0]\n",
    "        segmentation_new= [0]*len(segmentation)\n",
    "        for coord in range(len(segmentation)):\n",
    "            if coord % 2 == 0:\n",
    "                segmentation_new[coord] = (segmentation[coord] - delta_x)/scale\n",
    "\n",
    "            if coord % 2 == 1:\n",
    "                segmentation_new[coord] = (segmentation[coord] - delta_y)/scale\n",
    "        \n",
    "        annotation['bbox'] = bbox_new\n",
    "        annotation['segmentation'] = [segmentation_new]\n",
    "        annotation_id = annotation['id']\n",
    "        annotation_id_json = annotation_id-1\n",
    "    \n",
    "        json_anns[annotation_id_json] = annotation "
   ]
  },
  {
   "cell_type": "code",
   "execution_count": 7,
   "id": "db4ec0bd",
   "metadata": {},
   "outputs": [],
   "source": [
    "data['annotations'] = json_anns"
   ]
  },
  {
   "cell_type": "code",
   "execution_count": 8,
   "id": "35ae2aab",
   "metadata": {},
   "outputs": [],
   "source": [
    "images = data['images']\n",
    "for image_num in range(len(images)):\n",
    "    image_details = images[image_num]\n",
    "    image_details['height'] = smallest_dimen\n",
    "    image_details['width'] = smallest_dimen\n",
    "    images[image_num] = image_details\n",
    "\n",
    "data['images'] = images"
   ]
  },
  {
   "cell_type": "code",
   "execution_count": 9,
   "id": "34a685c5",
   "metadata": {},
   "outputs": [],
   "source": [
    "result_file = open(\"./transformed_anns.json\", \"w+\")\n",
    "json.dump(data, result_file, indent = 4, sort_keys= True)"
   ]
  },
  {
   "cell_type": "code",
   "execution_count": 10,
   "id": "7a066746",
   "metadata": {},
   "outputs": [],
   "source": [
    "result_file.close()"
   ]
  },
  {
   "cell_type": "code",
   "execution_count": null,
   "id": "b8370009",
   "metadata": {},
   "outputs": [],
   "source": []
  }
 ],
 "metadata": {
  "kernelspec": {
   "display_name": "Python 3",
   "language": "python",
   "name": "python3"
  },
  "language_info": {
   "codemirror_mode": {
    "name": "ipython",
    "version": 3
   },
   "file_extension": ".py",
   "mimetype": "text/x-python",
   "name": "python",
   "nbconvert_exporter": "python",
   "pygments_lexer": "ipython3",
   "version": "3.8.8"
  }
 },
 "nbformat": 4,
 "nbformat_minor": 5
}
